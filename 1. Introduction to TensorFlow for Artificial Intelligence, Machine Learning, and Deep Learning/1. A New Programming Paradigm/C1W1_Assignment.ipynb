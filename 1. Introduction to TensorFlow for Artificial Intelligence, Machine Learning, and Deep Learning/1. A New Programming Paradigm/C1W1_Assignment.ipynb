{
 "cells": [
  {
   "cell_type": "markdown",
   "metadata": {
    "id": "mw2VBrBcgvGa"
   },
   "source": [
    "# Week 1 Assignment: Housing Prices\n",
    "\n",
    "In this exercise you'll try to build a neural network that predicts the price of a house according to a simple formula.\n",
    "\n",
    "Imagine that house pricing is as easy as:\n",
    "\n",
    "A house has a base cost of 50k, and every additional bedroom adds a cost of 50k. This will make a 1 bedroom house cost 100k, a 2 bedroom house cost 150k etc.\n",
    "\n",
    "How would you create a neural network that learns this relationship so that it would predict a 7 bedroom house as costing close to 400k etc.\n",
    "\n",
    "Hint: Your network might work better if you scale the house price down. You don't have to give the answer 400...it might be better to create something that predicts the number 4, and then your answer is in the 'hundreds of thousands' etc."
   ]
  },
  {
   "cell_type": "code",
   "execution_count": null,
   "metadata": {
    "deletable": false,
    "editable": false
   },
   "outputs": [],
   "source": [
    "# IMPORTANT: This will check your notebook's metadata for grading.\n",
    "# Please do not continue the lab unless the output of this cell tells you to proceed. \n",
    "!python add_metadata.py --filename C1W1_Assignment.ipynb"
   ]
  },
  {
   "cell_type": "markdown",
   "metadata": {},
   "source": [
    "_**NOTE:** To prevent errors from the autograder, you are not allowed to edit or delete non-graded cells in this notebook . Please only put your solutions in between the `### START CODE HERE` and `### END CODE HERE` code comments, and also refrain from adding any new cells. **Once you have passed this assignment** and want to experiment with any of the non-graded code, you may follow the instructions at the bottom of this notebook._"
   ]
  },
  {
   "cell_type": "code",
   "execution_count": 3,
   "metadata": {
    "deletable": false,
    "editable": false,
    "id": "PUNO2E6SeURH",
    "tags": [
     "graded"
    ]
   },
   "outputs": [],
   "source": [
    "# grader-required-cell\n",
    "\n",
    "import tensorflow as tf\n",
    "import numpy as np"
   ]
  },
  {
   "cell_type": "code",
   "execution_count": 4,
   "metadata": {
    "deletable": false,
    "id": "B-74xrKrBqGJ",
    "tags": [
     "graded"
    ]
   },
   "outputs": [],
   "source": [
    "# grader-required-cell\n",
    "\n",
    "# GRADED FUNCTION: house_model\n",
    "def house_model():\n",
    "    ### START CODE HERE\n",
    "    \n",
    "    # Define input and output tensors with the values for houses with 1 up to 6 bedrooms\n",
    "    # Hint: Remember to explictly set the dtype as float\n",
    "    xs = [1.0, 2.0, 3.0, 4.0, 5.0, 6.0]\n",
    "    ys = [1.0, 1.5, 2.0, 2.5, 3.0, 3.5]\n",
    "    \n",
    "    # Define your model (should be a model with 1 dense layer and 1 unit)\n",
    "    # Note: you can use `tf.keras` instead of `keras`\n",
    "    model = tf.keras.Sequential([tf.keras.layers.Dense(units=1, input_shape=[1])])\n",
    "    \n",
    "    # Compile your model\n",
    "    # Set the optimizer to Stochastic Gradient Descent\n",
    "    # and use Mean Squared Error as the loss function\n",
    "    model.compile(optimizer=\"sgd\", loss=\"mean_squared_error\")\n",
    "    \n",
    "    # Train your model for 1000 epochs by feeding the i/o tensors\n",
    "    model.fit(xs, ys, epochs=1000)\n",
    "    \n",
    "    ### END CODE HERE\n",
    "    return model"
   ]
  },
  {
   "cell_type": "markdown",
   "metadata": {},
   "source": [
    "Now that you have a function that returns a compiled and trained model when invoked, use it to get the model to predict the price of houses: "
   ]
  },
  {
   "cell_type": "code",
   "execution_count": 5,
   "metadata": {
    "deletable": false,
    "editable": false,
    "tags": [
     "graded"
    ]
   },
   "outputs": [
    {
     "name": "stdout",
     "output_type": "stream",
     "text": [
      "1/1 [==============================] - 0s 2ms/step - loss: 7.7015e-07\n",
      "Epoch 772/1000\n",
      "1/1 [==============================] - 0s 3ms/step - loss: 7.6459e-07\n",
      "Epoch 773/1000\n",
      "1/1 [==============================] - 0s 2ms/step - loss: 7.5898e-07\n",
      "Epoch 774/1000\n",
      "1/1 [==============================] - 0s 3ms/step - loss: 7.5343e-07\n",
      "Epoch 775/1000\n",
      "1/1 [==============================] - 0s 2ms/step - loss: 7.4801e-07\n",
      "Epoch 776/1000\n",
      "1/1 [==============================] - 0s 3ms/step - loss: 7.4257e-07\n",
      "Epoch 777/1000\n",
      "1/1 [==============================] - 0s 3ms/step - loss: 7.3717e-07\n",
      "Epoch 778/1000\n",
      "1/1 [==============================] - 0s 3ms/step - loss: 7.3179e-07\n",
      "Epoch 779/1000\n",
      "1/1 [==============================] - 0s 3ms/step - loss: 7.2646e-07\n",
      "Epoch 780/1000\n",
      "1/1 [==============================] - 0s 3ms/step - loss: 7.2110e-07\n",
      "Epoch 781/1000\n",
      "1/1 [==============================] - 0s 3ms/step - loss: 7.1588e-07\n",
      "Epoch 782/1000\n",
      "1/1 [==============================] - 0s 3ms/step - loss: 7.1071e-07\n",
      "Epoch 783/1000\n",
      "1/1 [==============================] - 0s 3ms/step - loss: 7.0549e-07\n",
      "Epoch 784/1000\n",
      "1/1 [==============================] - 0s 3ms/step - loss: 7.0039e-07\n",
      "Epoch 785/1000\n",
      "1/1 [==============================] - 0s 3ms/step - loss: 6.9525e-07\n",
      "Epoch 786/1000\n",
      "1/1 [==============================] - 0s 3ms/step - loss: 6.9023e-07\n",
      "Epoch 787/1000\n",
      "1/1 [==============================] - 0s 3ms/step - loss: 6.8520e-07\n",
      "Epoch 788/1000\n",
      "1/1 [==============================] - 0s 3ms/step - loss: 6.8012e-07\n",
      "Epoch 789/1000\n",
      "1/1 [==============================] - 0s 3ms/step - loss: 6.7523e-07\n",
      "Epoch 790/1000\n",
      "1/1 [==============================] - 0s 3ms/step - loss: 6.7031e-07\n",
      "Epoch 791/1000\n",
      "1/1 [==============================] - 0s 3ms/step - loss: 6.6537e-07\n",
      "Epoch 792/1000\n",
      "1/1 [==============================] - 0s 3ms/step - loss: 6.6059e-07\n",
      "Epoch 793/1000\n",
      "1/1 [==============================] - 0s 3ms/step - loss: 6.5573e-07\n",
      "Epoch 794/1000\n",
      "1/1 [==============================] - 0s 3ms/step - loss: 6.5101e-07\n",
      "Epoch 795/1000\n",
      "1/1 [==============================] - 0s 3ms/step - loss: 6.4631e-07\n",
      "Epoch 796/1000\n",
      "1/1 [==============================] - 0s 3ms/step - loss: 6.4160e-07\n",
      "Epoch 797/1000\n",
      "1/1 [==============================] - 0s 3ms/step - loss: 6.3685e-07\n",
      "Epoch 798/1000\n",
      "1/1 [==============================] - 0s 3ms/step - loss: 6.3218e-07\n",
      "Epoch 799/1000\n",
      "1/1 [==============================] - 0s 3ms/step - loss: 6.2766e-07\n",
      "Epoch 800/1000\n",
      "1/1 [==============================] - 0s 3ms/step - loss: 6.2305e-07\n",
      "Epoch 801/1000\n",
      "1/1 [==============================] - 0s 2ms/step - loss: 6.1850e-07\n",
      "Epoch 802/1000\n",
      "1/1 [==============================] - 0s 2ms/step - loss: 6.1399e-07\n",
      "Epoch 803/1000\n",
      "1/1 [==============================] - 0s 2ms/step - loss: 6.0955e-07\n",
      "Epoch 804/1000\n",
      "1/1 [==============================] - 0s 3ms/step - loss: 6.0507e-07\n",
      "Epoch 805/1000\n",
      "1/1 [==============================] - 0s 2ms/step - loss: 6.0069e-07\n",
      "Epoch 806/1000\n",
      "1/1 [==============================] - 0s 3ms/step - loss: 5.9626e-07\n",
      "Epoch 807/1000\n",
      "1/1 [==============================] - 0s 3ms/step - loss: 5.9193e-07\n",
      "Epoch 808/1000\n",
      "1/1 [==============================] - 0s 3ms/step - loss: 5.8763e-07\n",
      "Epoch 809/1000\n",
      "1/1 [==============================] - 0s 2ms/step - loss: 5.8338e-07\n",
      "Epoch 810/1000\n",
      "1/1 [==============================] - 0s 3ms/step - loss: 5.7913e-07\n",
      "Epoch 811/1000\n",
      "1/1 [==============================] - 0s 3ms/step - loss: 5.7491e-07\n",
      "Epoch 812/1000\n",
      "1/1 [==============================] - 0s 3ms/step - loss: 5.7074e-07\n",
      "Epoch 813/1000\n",
      "1/1 [==============================] - 0s 3ms/step - loss: 5.6656e-07\n",
      "Epoch 814/1000\n",
      "1/1 [==============================] - 0s 3ms/step - loss: 5.6237e-07\n",
      "Epoch 815/1000\n",
      "1/1 [==============================] - 0s 3ms/step - loss: 5.5835e-07\n",
      "Epoch 816/1000\n",
      "1/1 [==============================] - 0s 3ms/step - loss: 5.5431e-07\n",
      "Epoch 817/1000\n",
      "1/1 [==============================] - 0s 3ms/step - loss: 5.5027e-07\n",
      "Epoch 818/1000\n",
      "1/1 [==============================] - 0s 2ms/step - loss: 5.4619e-07\n",
      "Epoch 819/1000\n",
      "1/1 [==============================] - 0s 2ms/step - loss: 5.4224e-07\n",
      "Epoch 820/1000\n",
      "1/1 [==============================] - 0s 2ms/step - loss: 5.3829e-07\n",
      "Epoch 821/1000\n",
      "1/1 [==============================] - 0s 2ms/step - loss: 5.3432e-07\n",
      "Epoch 822/1000\n",
      "1/1 [==============================] - 0s 2ms/step - loss: 5.3047e-07\n",
      "Epoch 823/1000\n",
      "1/1 [==============================] - 0s 2ms/step - loss: 5.2658e-07\n",
      "Epoch 824/1000\n",
      "1/1 [==============================] - 0s 2ms/step - loss: 5.2278e-07\n",
      "Epoch 825/1000\n",
      "1/1 [==============================] - 0s 2ms/step - loss: 5.1894e-07\n",
      "Epoch 826/1000\n",
      "1/1 [==============================] - 0s 2ms/step - loss: 5.1520e-07\n",
      "Epoch 827/1000\n",
      "1/1 [==============================] - 0s 3ms/step - loss: 5.1144e-07\n",
      "Epoch 828/1000\n",
      "1/1 [==============================] - 0s 3ms/step - loss: 5.0773e-07\n",
      "Epoch 829/1000\n",
      "1/1 [==============================] - 0s 2ms/step - loss: 5.0400e-07\n",
      "Epoch 830/1000\n",
      "1/1 [==============================] - 0s 2ms/step - loss: 5.0033e-07\n",
      "Epoch 831/1000\n",
      "1/1 [==============================] - 0s 3ms/step - loss: 4.9669e-07\n",
      "Epoch 832/1000\n",
      "1/1 [==============================] - 0s 3ms/step - loss: 4.9307e-07\n",
      "Epoch 833/1000\n",
      "1/1 [==============================] - 0s 3ms/step - loss: 4.8944e-07\n",
      "Epoch 834/1000\n",
      "1/1 [==============================] - 0s 2ms/step - loss: 4.8591e-07\n",
      "Epoch 835/1000\n",
      "1/1 [==============================] - 0s 2ms/step - loss: 4.8240e-07\n",
      "Epoch 836/1000\n",
      "1/1 [==============================] - 0s 2ms/step - loss: 4.7883e-07\n",
      "Epoch 837/1000\n",
      "1/1 [==============================] - 0s 3ms/step - loss: 4.7539e-07\n",
      "Epoch 838/1000\n",
      "1/1 [==============================] - 0s 2ms/step - loss: 4.7195e-07\n",
      "Epoch 839/1000\n",
      "1/1 [==============================] - 0s 2ms/step - loss: 4.6851e-07\n",
      "Epoch 840/1000\n",
      "1/1 [==============================] - 0s 2ms/step - loss: 4.6507e-07\n",
      "Epoch 841/1000\n",
      "1/1 [==============================] - 0s 2ms/step - loss: 4.6168e-07\n",
      "Epoch 842/1000\n",
     ]
    },
   ],
   "source": [
    "# grader-required-cell\n",
    "\n",
    "# Get your trained model\n",
    "model = house_model()"
   ]
  },
  {
   "cell_type": "markdown",
   "metadata": {},
   "source": [
    "Now that your model has finished training it is time to test it out! You can do so by running the next cell."
   ]
  },
  {
   "cell_type": "code",
   "execution_count": 6,
   "metadata": {
    "deletable": false,
    "editable": false,
    "id": "kMlInDdSBqGK",
    "tags": [
     "graded"
    ]
   },
   "outputs": [
    {
     "name": "stdout",
     "output_type": "stream",
     "text": [
      "[4.000548]\n"
     ]
    }
   ],
   "source": [
    "# grader-required-cell\n",
    "\n",
    "new_x = 7.0\n",
    "prediction = model.predict([new_x])[0]\n",
    "print(prediction)"
   ]
  },
  {
   "cell_type": "markdown",
   "metadata": {},
   "source": [
    "If everything went as expected you should see a prediction value very close to 4. **If not, try adjusting your code before submitting the assignment.** Notice that you can play around with the value of `new_x` to get different predictions. In general you should see that the network was able to learn the linear relationship between `x` and `y`, so if you use a value of 8.0 you should get a prediction close to 4.5 and so on."
   ]
  },
  {
   "cell_type": "markdown",
   "metadata": {},
   "source": [
    "**Congratulations on finishing this week's assignment!**\n",
    "\n",
    "You have successfully coded a neural network that learned the linear relationship between two variables. Nice job!\n",
    "\n",
    "**Keep it up!**"
   ]
  },
  {
   "cell_type": "markdown",
   "metadata": {},
   "source": [
    "<details>\n",
    "  <summary><font size=\"2\" color=\"darkgreen\"><b>Please click here if you want to experiment with any of the non-graded code.</b></font></summary>\n",
    "    <p><i><b>Important Note: Please only do this when you've already passed the assignment to avoid problems with the autograder.</b></i>\n",
    "    <ol>\n",
    "        <li> On the notebook’s menu, click “View” > “Cell Toolbar” > “Edit Metadata”</li>\n",
    "        <li> Hit the “Edit Metadata” button next to the code cell which you want to lock/unlock</li>\n",
    "        <li> Set the attribute value for “editable” to:\n",
    "            <ul>\n",
    "                <li> “true” if you want to unlock it </li>\n",
    "                <li> “false” if you want to lock it </li>\n",
    "            </ul>\n",
    "        </li>\n",
    "        <li> On the notebook’s menu, click “View” > “Cell Toolbar” > “None” </li>\n",
    "    </ol>\n",
    "    <p> Here's a short demo of how to do the steps above: \n",
    "        <br>\n",
    "        <img src=\"https://drive.google.com/uc?export=view&id=14Xy_Mb17CZVgzVAgq7NCjMVBvSae3xO1\" align=\"center\">\n",
    "</details>"
   ]
  }
 ],
 "metadata": {
  "kernelspec": {
   "display_name": "Python 3",
   "language": "python",
   "name": "python3"
  },
  "language_info": {
   "codemirror_mode": {
    "name": "ipython",
    "version": 3
   },
   "file_extension": ".py",
   "mimetype": "text/x-python",
   "name": "python",
   "nbconvert_exporter": "python",
   "pygments_lexer": "ipython3",
   "version": "3.8.8"
  }
 },
 "nbformat": 4,
 "nbformat_minor": 4
}
